{
 "cells": [
  {
   "cell_type": "code",
   "execution_count": 1,
   "metadata": {},
   "outputs": [
    {
     "name": "stderr",
     "output_type": "stream",
     "text": [
      "Using TensorFlow backend.\n"
     ]
    }
   ],
   "source": [
    "#!/usr/bin/env python3\n",
    "# -*- coding: utf-8 -*-\n",
    "\"\"\"\n",
    "Created on Sun Apr  5 10:44:06 2020\n",
    "\n",
    "@author: triet\n",
    "\"\"\"\n",
    "import os\n",
    "import pandas as pd\n",
    "import numpy as np\n",
    "import wget\n",
    "from datetime import date\n",
    "from datetime import timedelta  \n",
    "from datetime import datetime \n",
    "import matplotlib.pyplot as plt\n",
    "import matplotlib.colors as mcolors\n",
    "from numpy import array\n",
    "from numpy import hstack\n",
    "from sklearn.preprocessing import StandardScaler\n",
    "from numpy import array\n",
    "from keras.models import Sequential\n",
    "from keras.layers import LSTM\n",
    "from keras.layers import Dense\n",
    "from keras.layers import Dropout"
   ]
  },
  {
   "cell_type": "code",
   "execution_count": 2,
   "metadata": {},
   "outputs": [
    {
     "data": {
      "text/plain": [
       "'\\nbase_data_path = \"https://raw.githubusercontent.com/CSSEGISandData/COVID-19/master/csse_covid_19_data/csse_covid_19_time_series/\"\\ndata_files = [\"time_series_covid19_confirmed_global.csv\", \"time_series_covid19_deaths_global.csv\", \"time_series_covid19_recovered_global.csv\"]\\n\\nfor file in data_files:\\n    if os.path.exists(file):\\n        os.remove(file)\\n    wget.download(os.path.join(base_data_path, file))\\n'"
      ]
     },
     "execution_count": 2,
     "metadata": {},
     "output_type": "execute_result"
    }
   ],
   "source": [
    "#refresh data from github of university Johns Hopkins\n",
    "\"\"\"\n",
    "base_data_path = \"https://raw.githubusercontent.com/CSSEGISandData/COVID-19/master/csse_covid_19_data/csse_covid_19_time_series/\"\n",
    "data_files = [\"time_series_covid19_confirmed_global.csv\", \"time_series_covid19_deaths_global.csv\", \"time_series_covid19_recovered_global.csv\"]\n",
    "\n",
    "for file in data_files:\n",
    "    if os.path.exists(file):\n",
    "        os.remove(file)\n",
    "    wget.download(os.path.join(base_data_path, file))\n",
    "\"\"\""
   ]
  },
  {
   "cell_type": "code",
   "execution_count": 2,
   "metadata": {},
   "outputs": [],
   "source": [
    "#get data of US\n",
    "data_confirmed = np.asarray(pd.read_csv(\"./data/time_series_covid19_confirmed_global.csv\").to_numpy()[225,4:], dtype=np.uint32).reshape(-1,1)\n",
    "data_deaths = np.asarray(pd.read_csv(\"./data/time_series_covid19_deaths_global.csv\").to_numpy()[225,4:], dtype=np.uint32).reshape(-1,1)\n",
    "data_recovered = np.asarray(pd.read_csv(\"./data/time_series_covid19_recovered_global.csv\").to_numpy()[225,4:], dtype=np.uint32).reshape(-1,1)"
   ]
  },
  {
   "cell_type": "code",
   "execution_count": 5,
   "metadata": {},
   "outputs": [],
   "source": [
    "date_format = \"%m/%d/%Y\"\n",
    "\n",
    "date_start = datetime.strptime('1/22/2020', date_format)\n",
    "date_end = datetime.strptime('5/5/2020', date_format)\n",
    "\n",
    "start_quarantine = datetime.strptime('3/15/2020', date_format)\n",
    "end_quarantine = datetime.strptime('4/30/2020', date_format)\n",
    "\n",
    "date_today = datetime.strptime(datetime.today().strftime(\"%m/%d/%Y\"), date_format)\n",
    "\n",
    "#---------IMPORTANT----------\n",
    "\n",
    "#If date_today = datetime.strptime(datetime.today().strftime(\"%m/%d/%Y\"), date_format) generates error\n",
    "#Replace date_today by the day before\n",
    "\n",
    "#which means : if today is 4/25/2020\n",
    "# ===> replace date_today = datetime.strptime(datetime.today().strftime(\"%m/%d/%Y\"), date_format)\n",
    "# by:          date_today = datetime.strptime('4/24/2020', date_format)\n",
    "\n",
    "#Because the data may not be updated today, so the lasted data is yesterday"
   ]
  },
  {
   "cell_type": "code",
   "execution_count": 6,
   "metadata": {},
   "outputs": [],
   "source": [
    "start_to_now = (date_end - date_start).days\n",
    "start_to_quarantS = (start_quarantine - date_start).days\n",
    "quarantS_to_quarantE = (end_quarantine - start_quarantine).days\n",
    "start_to_today = (date_today - date_start).days\n",
    "\n",
    "quarant_include_future = np.zeros(start_to_now + 1)\n",
    "quarant_include_future[start_to_quarantS : start_to_quarantS + quarantS_to_quarantE + 1] = 1\n",
    "quarant_now = quarant_include_future[:start_to_today + 1]\n"
   ]
  },
  {
   "cell_type": "code",
   "execution_count": 7,
   "metadata": {},
   "outputs": [],
   "source": [
    "# split a multivariate sequence into samples\n",
    "def split_sequences(sequences, n_steps):\n",
    "    X, y = list(), list()\n",
    "    for i in range(len(sequences)):\n",
    "        # find the end of this pattern\n",
    "        end_ix = i + n_steps\n",
    "        # check if we are beyond the dataset\n",
    "        if end_ix > len(sequences):\n",
    "            break\n",
    "        # gather input and output parts of the pattern\n",
    "        seq_x, seq_y = sequences[i:end_ix, :-1], sequences[end_ix-1, -1]\n",
    "        X.append((seq_x))\n",
    "        y.append(seq_y)\n",
    "    return array(X), array(y)"
   ]
  },
  {
   "cell_type": "code",
   "execution_count": 8,
   "metadata": {},
   "outputs": [],
   "source": [
    "n_steps = 1\n",
    "n_features = 2\n",
    "\n",
    "\n",
    "sc_C = StandardScaler()\n",
    "\n",
    "data_C_1 = quarant_now.reshape(-1,1)\n",
    "data_C_2 = data_confirmed\n",
    "\n",
    "data_C = sc_C.fit_transform(hstack((data_C_1[:-n_steps],data_C_2[:-n_steps],data_C_2[n_steps:])))\n",
    "mean = sc_C.mean_\n",
    "std = np.sqrt(sc_C.var_)\n"
   ]
  },
  {
   "cell_type": "code",
   "execution_count": 9,
   "metadata": {},
   "outputs": [
    {
     "name": "stdout",
     "output_type": "stream",
     "text": [
      "94\n",
      "94\n"
     ]
    }
   ],
   "source": [
    "print(len(data_C_1))\n",
    "print(len(data_C_2))"
   ]
  },
  {
   "cell_type": "code",
   "execution_count": 10,
   "metadata": {},
   "outputs": [],
   "source": [
    "n_steps = 1\n",
    "n_features = 2\n",
    "X, y = split_sequences(data_C, n_steps)"
   ]
  },
  {
   "cell_type": "code",
   "execution_count": 11,
   "metadata": {},
   "outputs": [
    {
     "name": "stdout",
     "output_type": "stream",
     "text": [
      "(93, 1, 2)\n"
     ]
    }
   ],
   "source": [
    "print(X.shape)"
   ]
  },
  {
   "cell_type": "code",
   "execution_count": 12,
   "metadata": {},
   "outputs": [],
   "source": [
    "#build model\n",
    "def build_model(nb_node):  \n",
    "    model = Sequential()\n",
    "    model.add(LSTM(nb_node, activation='relu', input_shape=(n_steps, n_features)))\n",
    "    model.add(Dropout(0.5))\n",
    "    model.add(Dense(1))\n",
    "    model.summary()\n",
    "    return model"
   ]
  },
  {
   "cell_type": "code",
   "execution_count": 13,
   "metadata": {},
   "outputs": [
    {
     "name": "stdout",
     "output_type": "stream",
     "text": [
      "Model: \"sequential_1\"\n",
      "_________________________________________________________________\n",
      "Layer (type)                 Output Shape              Param #   \n",
      "=================================================================\n",
      "lstm_1 (LSTM)                (None, 50)                10600     \n",
      "_________________________________________________________________\n",
      "dropout_1 (Dropout)          (None, 50)                0         \n",
      "_________________________________________________________________\n",
      "dense_1 (Dense)              (None, 1)                 51        \n",
      "=================================================================\n",
      "Total params: 10,651\n",
      "Trainable params: 10,651\n",
      "Non-trainable params: 0\n",
      "_________________________________________________________________\n"
     ]
    },
    {
     "data": {
      "text/plain": [
       "<keras.callbacks.callbacks.History at 0x7f656d246a10>"
      ]
     },
     "execution_count": 13,
     "metadata": {},
     "output_type": "execute_result"
    }
   ],
   "source": [
    "nb_node = 50\n",
    "model_C = build_model(nb_node)\n",
    "#compile model\n",
    "model_C.compile(optimizer='adam', loss='mse')\n",
    "\n",
    "# fit model\n",
    "model_C.fit(X, y, epochs=200, verbose=0)"
   ]
  },
  {
   "cell_type": "code",
   "execution_count": 14,
   "metadata": {},
   "outputs": [],
   "source": [
    "def predict_include_future(model, data, nb_days, n_steps):\n",
    "    k = len(data)\n",
    "    y_preds = model.predict(data)\n",
    "    for i in range(nb_days):\n",
    "        data_1 = quarant_include_future[k + 1 + i - n_steps: k + 1 + i ].reshape(-1,1)\n",
    "        data_2 = y_preds[-n_steps:]\n",
    "        seq = hstack((data_1,data_2)).reshape(1,n_steps,n_features)\n",
    "        pred_day = model.predict(seq)\n",
    "        y_preds = np.concatenate((y_preds, pred_day))\n",
    "    return y_preds"
   ]
  },
  {
   "cell_type": "code",
   "execution_count": 15,
   "metadata": {
    "scrolled": true
   },
   "outputs": [],
   "source": [
    "days_future = (date_end - date_today).days\n",
    "y_pred_C_transformed = predict_include_future(model_C, X, days_future, n_steps)"
   ]
  },
  {
   "cell_type": "code",
   "execution_count": 16,
   "metadata": {},
   "outputs": [
    {
     "data": {
      "text/plain": [
       "11"
      ]
     },
     "execution_count": 16,
     "metadata": {},
     "output_type": "execute_result"
    }
   ],
   "source": [
    "days_future"
   ]
  },
  {
   "cell_type": "code",
   "execution_count": 17,
   "metadata": {
    "scrolled": true
   },
   "outputs": [],
   "source": [
    "y_pred_C = y_pred_C_transformed*std[2]+mean[2]"
   ]
  },
  {
   "cell_type": "code",
   "execution_count": 19,
   "metadata": {},
   "outputs": [
    {
     "data": {
      "image/png": "[encoded data removed]",
      "text/plain": [
       "<Figure size 432x288 with 1 Axes>"
      ]
     },
     "metadata": {
      "needs_background": "light"
     },
     "output_type": "display_data"
    }
   ],
   "source": [
    "plt.plot(y_pred_C.reshape(-1,1), label='predict')\n",
    "plt.plot(data_confirmed[n_steps:], label='origin')\n",
    "plt.legend()\n",
    "plt.xlabel('Time')\n",
    "plt.ylabel('Cases')\n",
    "plt.title('Confirmed prediction including '+str(days_future)+' in future')\n",
    "plt.show()"
   ]
  }
 ],
 "metadata": {
  "kernelspec": {
   "display_name": "Python 3",
   "language": "python",
   "name": "python3"
  },
  "language_info": {
   "codemirror_mode": {
    "name": "ipython",
    "version": 3
   },
   "file_extension": ".py",
   "mimetype": "text/x-python",
   "name": "python",
   "nbconvert_exporter": "python",
   "pygments_lexer": "ipython3",
   "version": "3.7.7"
  }
 },
 "nbformat": 4,
 "nbformat_minor": 4
}
